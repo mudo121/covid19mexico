{
 "cells": [
  {
   "cell_type": "markdown",
   "metadata": {},
   "source": [
    "# Get the Data\n",
    "https://datos.gob.mx/busca/dataset/informacion-referente-a-casos-covid-19-en-mexico\n",
    "\n",
    "http://187.191.75.115/gobmx/salud/datos_abiertos/datos_abiertos_covid19.zip"
   ]
  },
  {
   "cell_type": "code",
   "execution_count": 32,
   "metadata": {},
   "outputs": [
    {
     "name": "stdout",
     "output_type": "stream",
     "text": [
      "Data Dir: D:\\OneDrive - bwedu\\covid19mexico\\data\n",
      "Dataset .zip path: D:\\OneDrive - bwedu\\covid19mexico\\data\\2020-06-14.zip\n"
     ]
    }
   ],
   "source": [
    "# imports\n",
    "import requests \n",
    "import pathlib\n",
    "import os\n",
    "from datetime import date\n",
    "import zipfile\n",
    "\n",
    "today = date.today()\n",
    "currentDir = pathlib.Path().absolute()\n",
    "dataDir = os.path.join(currentDir, \"data\")\n",
    "\n",
    "\n",
    "\n",
    "covidDataUrl = \"http://187.191.75.115/gobmx/salud/datos_abiertos/datos_abiertos_covid19.zip\"\n",
    "datasetZipTodayPath = \"{dataDir}\\{date}.zip\".format(dataDir=dataDir, date=today)\n",
    "\n",
    "\n",
    "print(\"Data Dir: {}\".format(dataDir))\n",
    "print(\"Dataset .zip path: {}\".format(datasetZipTodayPath))"
   ]
  },
  {
   "cell_type": "markdown",
   "metadata": {},
   "source": [
    "### Functions"
   ]
  },
  {
   "cell_type": "code",
   "execution_count": 31,
   "metadata": {},
   "outputs": [],
   "source": [
    "def download_url(url, save_path, chunk_size=128):\n",
    "    r = requests.get(url, stream=True)\n",
    "    open(save_path, 'wb').write(r.content)\n",
    "    \n",
    "    with zipfile.ZipFile(save_path, 'r') as zip_ref:\n",
    "        zip_ref.extractall(dataDir)\n",
    "    \n",
    "    #with open(save_path, 'wb') as fd:\n",
    "    #    for chunk in r.iter_content(chunk_size=chunk_size):\n",
    "    #        fd.write(chunk)"
   ]
  },
  {
   "cell_type": "code",
   "execution_count": 33,
   "metadata": {},
   "outputs": [
    {
     "name": "stdout",
     "output_type": "stream",
     "text": [
      "Downloading new covid-19 data...\n"
     ]
    }
   ],
   "source": [
    "if not os.path.isfile(datasetZipTodayPath):\n",
    "    print(\"Downloading new covid-19 data...\")\n",
    "    download_url(url=covidDataUrl, save_path=datasetZipTodayPath)"
   ]
  }
 ],
 "metadata": {
  "kernelspec": {
   "display_name": "ml",
   "language": "python",
   "name": "ml"
  },
  "language_info": {
   "codemirror_mode": {
    "name": "ipython",
    "version": 3
   },
   "file_extension": ".py",
   "mimetype": "text/x-python",
   "name": "python",
   "nbconvert_exporter": "python",
   "pygments_lexer": "ipython3",
   "version": "3.7.6"
  }
 },
 "nbformat": 4,
 "nbformat_minor": 4
}
